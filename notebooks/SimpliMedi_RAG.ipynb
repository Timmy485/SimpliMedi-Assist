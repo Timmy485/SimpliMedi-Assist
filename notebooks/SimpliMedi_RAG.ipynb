{
  "nbformat": 4,
  "nbformat_minor": 0,
  "metadata": {
    "colab": {
      "provenance": []
    },
    "kernelspec": {
      "name": "python3",
      "display_name": "Python 3"
    },
    "language_info": {
      "name": "python"
    }
  },
  "cells": [
    {
      "cell_type": "code",
      "execution_count": null,
      "metadata": {
        "id": "qMd4owIEt7hy",
        "colab": {
          "base_uri": "https://localhost:8080/"
        },
        "outputId": "a9ad3458-b3c9-46d9-fde1-5e6589b52ce2"
      },
      "outputs": [
        {
          "output_type": "stream",
          "name": "stdout",
          "text": [
            "Requirement already satisfied: llama-index in /usr/local/lib/python3.10/dist-packages (0.10.6)\n",
            "Requirement already satisfied: llama-index-agent-openai<0.2.0,>=0.1.0 in /usr/local/lib/python3.10/dist-packages (from llama-index) (0.1.1)\n",
            "Requirement already satisfied: llama-index-core<0.11.0,>=0.10.0 in /usr/local/lib/python3.10/dist-packages (from llama-index) (0.10.6.post1)\n",
            "Requirement already satisfied: llama-index-embeddings-openai<0.2.0,>=0.1.0 in /usr/local/lib/python3.10/dist-packages (from llama-index) (0.1.1)\n",
            "Requirement already satisfied: llama-index-legacy<0.10.0,>=0.9.48 in /usr/local/lib/python3.10/dist-packages (from llama-index) (0.9.48)\n",
            "Requirement already satisfied: llama-index-llms-openai<0.2.0,>=0.1.0 in /usr/local/lib/python3.10/dist-packages (from llama-index) (0.1.2)\n",
            "Requirement already satisfied: llama-index-multi-modal-llms-openai<0.2.0,>=0.1.0 in /usr/local/lib/python3.10/dist-packages (from llama-index) (0.1.1)\n",
            "Requirement already satisfied: llama-index-program-openai<0.2.0,>=0.1.0 in /usr/local/lib/python3.10/dist-packages (from llama-index) (0.1.2)\n",
            "Requirement already satisfied: llama-index-question-gen-openai<0.2.0,>=0.1.0 in /usr/local/lib/python3.10/dist-packages (from llama-index) (0.1.1)\n",
            "Requirement already satisfied: llama-index-readers-file<0.2.0,>=0.1.0 in /usr/local/lib/python3.10/dist-packages (from llama-index) (0.1.3)\n",
            "Requirement already satisfied: PyYAML>=6.0.1 in /usr/local/lib/python3.10/dist-packages (from llama-index-core<0.11.0,>=0.10.0->llama-index) (6.0.1)\n",
            "Requirement already satisfied: SQLAlchemy[asyncio]>=1.4.49 in /usr/local/lib/python3.10/dist-packages (from llama-index-core<0.11.0,>=0.10.0->llama-index) (2.0.27)\n",
            "Requirement already satisfied: aiohttp<4.0.0,>=3.8.6 in /usr/local/lib/python3.10/dist-packages (from llama-index-core<0.11.0,>=0.10.0->llama-index) (3.9.3)\n",
            "Requirement already satisfied: dataclasses-json in /usr/local/lib/python3.10/dist-packages (from llama-index-core<0.11.0,>=0.10.0->llama-index) (0.6.4)\n",
            "Requirement already satisfied: deprecated>=1.2.9.3 in /usr/local/lib/python3.10/dist-packages (from llama-index-core<0.11.0,>=0.10.0->llama-index) (1.2.14)\n",
            "Requirement already satisfied: dirtyjson<2.0.0,>=1.0.8 in /usr/local/lib/python3.10/dist-packages (from llama-index-core<0.11.0,>=0.10.0->llama-index) (1.0.8)\n",
            "Requirement already satisfied: fsspec>=2023.5.0 in /usr/local/lib/python3.10/dist-packages (from llama-index-core<0.11.0,>=0.10.0->llama-index) (2023.6.0)\n",
            "Requirement already satisfied: httpx in /usr/local/lib/python3.10/dist-packages (from llama-index-core<0.11.0,>=0.10.0->llama-index) (0.26.0)\n",
            "Requirement already satisfied: llamaindex-py-client>=0.1.12 in /usr/local/lib/python3.10/dist-packages (from llama-index-core<0.11.0,>=0.10.0->llama-index) (0.1.13)\n",
            "Requirement already satisfied: nest-asyncio<2.0.0,>=1.5.8 in /usr/local/lib/python3.10/dist-packages (from llama-index-core<0.11.0,>=0.10.0->llama-index) (1.6.0)\n",
            "Requirement already satisfied: networkx>=3.0 in /usr/local/lib/python3.10/dist-packages (from llama-index-core<0.11.0,>=0.10.0->llama-index) (3.2.1)\n",
            "Requirement already satisfied: nltk<4.0.0,>=3.8.1 in /usr/local/lib/python3.10/dist-packages (from llama-index-core<0.11.0,>=0.10.0->llama-index) (3.8.1)\n",
            "Requirement already satisfied: numpy in /usr/local/lib/python3.10/dist-packages (from llama-index-core<0.11.0,>=0.10.0->llama-index) (1.25.2)\n",
            "Requirement already satisfied: openai>=1.1.0 in /usr/local/lib/python3.10/dist-packages (from llama-index-core<0.11.0,>=0.10.0->llama-index) (1.12.0)\n",
            "Requirement already satisfied: pandas in /usr/local/lib/python3.10/dist-packages (from llama-index-core<0.11.0,>=0.10.0->llama-index) (1.5.3)\n",
            "Requirement already satisfied: pillow>=9.0.0 in /usr/local/lib/python3.10/dist-packages (from llama-index-core<0.11.0,>=0.10.0->llama-index) (9.4.0)\n",
            "Requirement already satisfied: requests>=2.31.0 in /usr/local/lib/python3.10/dist-packages (from llama-index-core<0.11.0,>=0.10.0->llama-index) (2.31.0)\n",
            "Requirement already satisfied: tenacity<9.0.0,>=8.2.0 in /usr/local/lib/python3.10/dist-packages (from llama-index-core<0.11.0,>=0.10.0->llama-index) (8.2.3)\n",
            "Requirement already satisfied: tiktoken>=0.3.3 in /usr/local/lib/python3.10/dist-packages (from llama-index-core<0.11.0,>=0.10.0->llama-index) (0.6.0)\n",
            "Requirement already satisfied: tqdm<5.0.0,>=4.66.1 in /usr/local/lib/python3.10/dist-packages (from llama-index-core<0.11.0,>=0.10.0->llama-index) (4.66.2)\n",
            "Requirement already satisfied: typing-extensions>=4.5.0 in /usr/local/lib/python3.10/dist-packages (from llama-index-core<0.11.0,>=0.10.0->llama-index) (4.9.0)\n",
            "Requirement already satisfied: typing-inspect>=0.8.0 in /usr/local/lib/python3.10/dist-packages (from llama-index-core<0.11.0,>=0.10.0->llama-index) (0.9.0)\n",
            "Requirement already satisfied: beautifulsoup4<5.0.0,>=4.12.3 in /usr/local/lib/python3.10/dist-packages (from llama-index-readers-file<0.2.0,>=0.1.0->llama-index) (4.12.3)\n",
            "Requirement already satisfied: bs4<0.0.3,>=0.0.2 in /usr/local/lib/python3.10/dist-packages (from llama-index-readers-file<0.2.0,>=0.1.0->llama-index) (0.0.2)\n",
            "Requirement already satisfied: pymupdf<2.0.0,>=1.23.21 in /usr/local/lib/python3.10/dist-packages (from llama-index-readers-file<0.2.0,>=0.1.0->llama-index) (1.23.22)\n",
            "Requirement already satisfied: pypdf<5.0.0,>=4.0.1 in /usr/local/lib/python3.10/dist-packages (from llama-index-readers-file<0.2.0,>=0.1.0->llama-index) (4.0.1)\n",
            "Requirement already satisfied: aiosignal>=1.1.2 in /usr/local/lib/python3.10/dist-packages (from aiohttp<4.0.0,>=3.8.6->llama-index-core<0.11.0,>=0.10.0->llama-index) (1.3.1)\n",
            "Requirement already satisfied: attrs>=17.3.0 in /usr/local/lib/python3.10/dist-packages (from aiohttp<4.0.0,>=3.8.6->llama-index-core<0.11.0,>=0.10.0->llama-index) (23.2.0)\n",
            "Requirement already satisfied: frozenlist>=1.1.1 in /usr/local/lib/python3.10/dist-packages (from aiohttp<4.0.0,>=3.8.6->llama-index-core<0.11.0,>=0.10.0->llama-index) (1.4.1)\n",
            "Requirement already satisfied: multidict<7.0,>=4.5 in /usr/local/lib/python3.10/dist-packages (from aiohttp<4.0.0,>=3.8.6->llama-index-core<0.11.0,>=0.10.0->llama-index) (6.0.5)\n",
            "Requirement already satisfied: yarl<2.0,>=1.0 in /usr/local/lib/python3.10/dist-packages (from aiohttp<4.0.0,>=3.8.6->llama-index-core<0.11.0,>=0.10.0->llama-index) (1.9.4)\n",
            "Requirement already satisfied: async-timeout<5.0,>=4.0 in /usr/local/lib/python3.10/dist-packages (from aiohttp<4.0.0,>=3.8.6->llama-index-core<0.11.0,>=0.10.0->llama-index) (4.0.3)\n",
            "Requirement already satisfied: soupsieve>1.2 in /usr/local/lib/python3.10/dist-packages (from beautifulsoup4<5.0.0,>=4.12.3->llama-index-readers-file<0.2.0,>=0.1.0->llama-index) (2.5)\n",
            "Requirement already satisfied: wrapt<2,>=1.10 in /usr/local/lib/python3.10/dist-packages (from deprecated>=1.2.9.3->llama-index-core<0.11.0,>=0.10.0->llama-index) (1.14.1)\n",
            "Requirement already satisfied: pydantic>=1.10 in /usr/local/lib/python3.10/dist-packages (from llamaindex-py-client>=0.1.12->llama-index-core<0.11.0,>=0.10.0->llama-index) (2.6.1)\n",
            "Requirement already satisfied: anyio in /usr/local/lib/python3.10/dist-packages (from httpx->llama-index-core<0.11.0,>=0.10.0->llama-index) (3.7.1)\n",
            "Requirement already satisfied: certifi in /usr/local/lib/python3.10/dist-packages (from httpx->llama-index-core<0.11.0,>=0.10.0->llama-index) (2024.2.2)\n",
            "Requirement already satisfied: httpcore==1.* in /usr/local/lib/python3.10/dist-packages (from httpx->llama-index-core<0.11.0,>=0.10.0->llama-index) (1.0.3)\n",
            "Requirement already satisfied: idna in /usr/local/lib/python3.10/dist-packages (from httpx->llama-index-core<0.11.0,>=0.10.0->llama-index) (3.6)\n",
            "Requirement already satisfied: sniffio in /usr/local/lib/python3.10/dist-packages (from httpx->llama-index-core<0.11.0,>=0.10.0->llama-index) (1.3.0)\n",
            "Requirement already satisfied: h11<0.15,>=0.13 in /usr/local/lib/python3.10/dist-packages (from httpcore==1.*->httpx->llama-index-core<0.11.0,>=0.10.0->llama-index) (0.14.0)\n",
            "Requirement already satisfied: click in /usr/local/lib/python3.10/dist-packages (from nltk<4.0.0,>=3.8.1->llama-index-core<0.11.0,>=0.10.0->llama-index) (8.1.7)\n",
            "Requirement already satisfied: joblib in /usr/local/lib/python3.10/dist-packages (from nltk<4.0.0,>=3.8.1->llama-index-core<0.11.0,>=0.10.0->llama-index) (1.3.2)\n",
            "Requirement already satisfied: regex>=2021.8.3 in /usr/local/lib/python3.10/dist-packages (from nltk<4.0.0,>=3.8.1->llama-index-core<0.11.0,>=0.10.0->llama-index) (2023.12.25)\n",
            "Requirement already satisfied: distro<2,>=1.7.0 in /usr/lib/python3/dist-packages (from openai>=1.1.0->llama-index-core<0.11.0,>=0.10.0->llama-index) (1.7.0)\n",
            "Requirement already satisfied: PyMuPDFb==1.23.22 in /usr/local/lib/python3.10/dist-packages (from pymupdf<2.0.0,>=1.23.21->llama-index-readers-file<0.2.0,>=0.1.0->llama-index) (1.23.22)\n",
            "Requirement already satisfied: charset-normalizer<4,>=2 in /usr/local/lib/python3.10/dist-packages (from requests>=2.31.0->llama-index-core<0.11.0,>=0.10.0->llama-index) (3.3.2)\n",
            "Requirement already satisfied: urllib3<3,>=1.21.1 in /usr/local/lib/python3.10/dist-packages (from requests>=2.31.0->llama-index-core<0.11.0,>=0.10.0->llama-index) (2.0.7)\n",
            "Requirement already satisfied: greenlet!=0.4.17 in /usr/local/lib/python3.10/dist-packages (from SQLAlchemy[asyncio]>=1.4.49->llama-index-core<0.11.0,>=0.10.0->llama-index) (3.0.3)\n",
            "Requirement already satisfied: mypy-extensions>=0.3.0 in /usr/local/lib/python3.10/dist-packages (from typing-inspect>=0.8.0->llama-index-core<0.11.0,>=0.10.0->llama-index) (1.0.0)\n",
            "Requirement already satisfied: marshmallow<4.0.0,>=3.18.0 in /usr/local/lib/python3.10/dist-packages (from dataclasses-json->llama-index-core<0.11.0,>=0.10.0->llama-index) (3.20.2)\n",
            "Requirement already satisfied: python-dateutil>=2.8.1 in /usr/local/lib/python3.10/dist-packages (from pandas->llama-index-core<0.11.0,>=0.10.0->llama-index) (2.8.2)\n",
            "Requirement already satisfied: pytz>=2020.1 in /usr/local/lib/python3.10/dist-packages (from pandas->llama-index-core<0.11.0,>=0.10.0->llama-index) (2023.4)\n",
            "Requirement already satisfied: exceptiongroup in /usr/local/lib/python3.10/dist-packages (from anyio->httpx->llama-index-core<0.11.0,>=0.10.0->llama-index) (1.2.0)\n",
            "Requirement already satisfied: packaging>=17.0 in /usr/local/lib/python3.10/dist-packages (from marshmallow<4.0.0,>=3.18.0->dataclasses-json->llama-index-core<0.11.0,>=0.10.0->llama-index) (23.2)\n",
            "Requirement already satisfied: annotated-types>=0.4.0 in /usr/local/lib/python3.10/dist-packages (from pydantic>=1.10->llamaindex-py-client>=0.1.12->llama-index-core<0.11.0,>=0.10.0->llama-index) (0.6.0)\n",
            "Requirement already satisfied: pydantic-core==2.16.2 in /usr/local/lib/python3.10/dist-packages (from pydantic>=1.10->llamaindex-py-client>=0.1.12->llama-index-core<0.11.0,>=0.10.0->llama-index) (2.16.2)\n",
            "Requirement already satisfied: six>=1.5 in /usr/local/lib/python3.10/dist-packages (from python-dateutil>=2.8.1->pandas->llama-index-core<0.11.0,>=0.10.0->llama-index) (1.16.0)\n"
          ]
        }
      ],
      "source": [
        "!pip install llama-index"
      ]
    },
    {
      "cell_type": "code",
      "source": [
        "import os\n",
        "from google.colab import userdata\n",
        "from llama_index.core import (\n",
        "    VectorStoreIndex,\n",
        "    SimpleDirectoryReader,\n",
        "    load_index_from_storage,\n",
        "    StorageContext,\n",
        ")"
      ],
      "metadata": {
        "id": "ObJyme2Px4p2"
      },
      "execution_count": null,
      "outputs": []
    },
    {
      "cell_type": "markdown",
      "source": [
        "### Set Up Api Key\n",
        "- Navigate to the “Secrets” section in the sidebar.\n",
        "- Click on “Add a new secret.”\n",
        "- Enter the name and value of the secret. name=OPENAI_API_KEY, value=<api_key>\n"
      ],
      "metadata": {
        "id": "7dupETSpzjZ9"
      }
    },
    {
      "cell_type": "code",
      "source": [
        "os.environ[\"OPENAI_API_KEY\"] = userdata.get('OPENAI_API_KEY')"
      ],
      "metadata": {
        "id": "SsMo0-iXzQJd"
      },
      "execution_count": null,
      "outputs": []
    },
    {
      "cell_type": "markdown",
      "source": [
        "### Load Data"
      ],
      "metadata": {
        "id": "JxXFmflMylud"
      }
    },
    {
      "cell_type": "markdown",
      "source": [
        "### Load Data Files"
      ],
      "metadata": {
        "id": "76x5H10vywdv"
      }
    },
    {
      "cell_type": "code",
      "source": [
        "filename_fn = lambda filename: {\"file_name\": filename}\n",
        "# automatically sets the metadata of each document according to filename_fn\n",
        "documents = SimpleDirectoryReader(\n",
        "    input_files=[\"./data/01.pdf\",\"./data/02.pdf\",\"./data/03.pdf\",\"./data/04.pdf\",\"./data/05.pdf\"], file_metadata=filename_fn\n",
        ").load_data()"
      ],
      "metadata": {
        "id": "reBo-pB32TFP"
      },
      "execution_count": null,
      "outputs": []
    },
    {
      "cell_type": "code",
      "source": [
        "print(f\"Loaded {len(documents)} docs\")"
      ],
      "metadata": {
        "id": "8wT4kHDuy0wO",
        "colab": {
          "base_uri": "https://localhost:8080/"
        },
        "outputId": "a24245df-b023-4e21-b907-2b4895fd9905"
      },
      "execution_count": null,
      "outputs": [
        {
          "output_type": "stream",
          "name": "stdout",
          "text": [
            "Loaded 91 docs\n"
          ]
        }
      ]
    },
    {
      "cell_type": "markdown",
      "source": [
        "### Save Indexing"
      ],
      "metadata": {
        "id": "qtZKIntc3oD1"
      }
    },
    {
      "cell_type": "code",
      "source": [
        "# check if storage already exists\n",
        "PERSIST_DIR = \"./storage\"\n",
        "if not os.path.exists(PERSIST_DIR):\n",
        "    index = VectorStoreIndex.from_documents(documents)\n",
        "    # store it for later\n",
        "    index.storage_context.persist(persist_dir=PERSIST_DIR)\n",
        "else:\n",
        "  # rebuild storage context\n",
        "  storage_context = StorageContext.from_defaults(persist_dir=\"storage\")\n",
        "  # load index\n",
        "  index = load_index_from_storage(index_id=\"vector_index\", storage_context=storage_context)"
      ],
      "metadata": {
        "id": "KZJlc9vf3kLV"
      },
      "execution_count": null,
      "outputs": []
    },
    {
      "cell_type": "code",
      "source": [],
      "metadata": {
        "id": "IOwo6t8KSWZR"
      },
      "execution_count": null,
      "outputs": []
    },
    {
      "cell_type": "markdown",
      "source": [
        "### Retrieval"
      ],
      "metadata": {
        "id": "6WVg_RVk48GM"
      }
    },
    {
      "cell_type": "code",
      "source": [
        "# import openai\n",
        "# !openai migrate\n",
        "# openai.api_key = 'YOUR_API_KEY'\n",
        "# messages = [ {\"role\": \"system\", \"content\":\n",
        "#               \"You are a intelligent assistant.\"} ]\n",
        "# while True:\n",
        "#     message = input(\"User : \")\n",
        "#     if message:\n",
        "#         messages.append(\n",
        "#             {\"role\": \"user\", \"content\": message},\n",
        "#         )\n",
        "#         chat = openai.ChatCompletion.create(\n",
        "#             model=\"gpt-3.5-turbo\", messages=messages\n",
        "#         )\n",
        "#     reply = chat.choices[0].message.content\n",
        "#     print(f\"ChatGPT: {reply}\")\n",
        "#     messages.append({\"role\": \"assistant\", \"content\": reply})"
      ],
      "metadata": {
        "id": "xUzWFBC_eOPi"
      },
      "execution_count": null,
      "outputs": []
    },
    {
      "cell_type": "code",
      "source": [
        "query_engine = index.as_query_engine(response_mode=\"tree_summarize\", similarity_top_k=5)"
      ],
      "metadata": {
        "id": "niiFQtE144G9"
      },
      "execution_count": null,
      "outputs": []
    },
    {
      "cell_type": "code",
      "source": [
        "response = query_engine.query(\"\"\" Explain in 5000 words like a doctor explaining to patient. Add more details based on general medical knowledge.\n",
        "\n",
        "EXAM: MR LUMBAR SPINE WITH AND WITHOUT CONTRAST\n",
        "\n",
        "CLINICAL INDICATION: Low back pain.\n",
        "\n",
        "TECHNIQUE: Multiplanar multisequence MRI of the lumbar spine performed without and with intravenous\n",
        "contrast.\n",
        "\n",
        "CONTRAST: 15 mL of Clariscan\n",
        "\n",
        "COMPARISON: None.\n",
        "\n",
        "FINDINGS:\n",
        "Assuming normal segmentation, there are 5 lumbar type vertebra with S1 completely incorporated into the\n",
        "sacrum.\n",
        "\n",
        "Postsurgical changes of L2-L4 laminectomies with posterior instrumented fusion at L2-L5. Susceptibility\n",
        "artifact related to fusion hardware limits evaluation of adjacent structures.\n",
        "\n",
        "Vertebral Bodies: Chronic-appearing mild anterior wedging of the T12 vertebral body. Vertebral body\n",
        "heights are otherwise maintained. No suspicious marrow signal replacement.\n",
        "Alignment: No acute lumbar subluxation. Stepwise grade 1 retrolisthesis of L1 on L2 and L2 on L3. Mild\n",
        "lumbar dextrocurvature.\n",
        "\n",
        "Extradural: There are no abnormal extradural fluid collections or masses. No foci of abnormal\n",
        "enhancement.\n",
        "Spinal Cord: The distal spinal cord appears normal.\n",
        "Conus: The conus terminates at approximately L1\n",
        "\n",
        "T12-L1: No spinal canal stenosis. Mild bilateral neuroforaminal stenosis due to foraminal extension of\n",
        "disc bulge and facet arthropathy.\n",
        "\n",
        "L1-L2: Severe spinal canal stenosis due to disc bulge, facet arthropathy and ligamentum flavum\n",
        "redundancy. Moderate right and severe left neuroforaminal stenosis due to foraminal extension of disc\n",
        "bulge and facet arthropathy.\n",
        "\n",
        "L2-L3: No spinal canal stenosis. Mild bilateral neuroforaminal stenosis due to foraminal extension of\n",
        "disc bulge and facet arthropathy.\n",
        "\n",
        "L3-L4: No spinal canal stenosis. Mild right and moderate left neuroforaminal stenosis due to foraminal\n",
        "extension of disc bulge and facet arthropathy.\n",
        "\n",
        "L4-L5: No spinal canal stenosis. Mild right and moderate left neuroforaminal stenosis due to foraminal\n",
        "extension of disc bulge and facet arthropathy.\n",
        "\n",
        "L5-S1: No spinal canal stenosis. Moderate right and severe left neuroforaminal stenosis due to foraminal\n",
        "extension of disc bulge and facet arthropathy.\n",
        "\n",
        "Paraspinal Soft Tissues: Unremarkable.\n",
        "Regional Soft Tissues: Simple-appearing right renal cyst measuring 6.7 x 5.8 cm.\n",
        "\n",
        "\n",
        "IMPRESSION:\n",
        "\n",
        "Postsurgical and multilevel degenerative spondylotic changes of the lumbar spine with up to severe spinal\n",
        "canal and severe neuroforaminal stenosis, further discussed in level by level detail above.\n",
        "\"\"\")"
      ],
      "metadata": {
        "id": "-BSzt3L45BLV"
      },
      "execution_count": null,
      "outputs": []
    },
    {
      "cell_type": "code",
      "source": [
        "response.response"
      ],
      "metadata": {
        "id": "eKyH0Ncx5g2s",
        "colab": {
          "base_uri": "https://localhost:8080/",
          "height": 191
        },
        "outputId": "a1e79bd4-743a-40a0-ef38-660212e1bb6a"
      },
      "execution_count": null,
      "outputs": [
        {
          "output_type": "execute_result",
          "data": {
            "text/plain": [
              "'The MRI of your lumbar spine shows several findings. Firstly, the lumbar vertebrae are normal in their alignment and segmentation, with the sacrum fully incorporated into the S1 vertebra. There are postsurgical changes noted at the L2-L4 levels, where laminectomies were performed with posterior instrumented fusion at L2-L5. However, the evaluation of adjacent structures is limited due to artifact related to the fusion hardware.\\n\\nIn terms of the vertebral bodies, there is a chronic-appearing mild anterior wedging of the T12 vertebral body, but overall the vertebral body heights are maintained with no suspicious marrow signal replacement. The alignment of the spine shows no acute subluxation, but there is a mild dextrocurvature present. Additionally, there is stepwise grade 1 retrolisthesis of L1 on L2 and L2 on L3.\\n\\nMoving on to the specific levels of the lumbar spine:\\n- At the T12-L1 level, there is no spinal canal stenosis, but there is mild bilateral neuroforaminal stenosis due to disc bulge and facet arthropathy.\\n- At the L1-L2 level, there is severe spinal canal stenosis due to disc bulge, facet arthropathy, and ligamentum flavum redundancy, with moderate to severe neuroforaminal stenosis on the right and left sides.\\n- At the L2-L3 level, there is no spinal canal stenosis, but mild bilateral neuroforaminal stenosis is present.\\n- At the L3-L4 level, there is no spinal canal stenosis, with mild right and moderate left neuroforaminal stenosis.\\n- At the L4-L5 level, there is no spinal canal stenosis, with mild right and moderate left neuroforaminal stenosis.\\n- At the L5-S1 level, there is no spinal canal stenosis, but there is moderate right and severe left neuroforaminal stenosis.\\n\\nThe examination also notes unremarkable paraspinal soft tissues, except for a simple right renal cyst measuring 6.7 x 5.8 cm.\\n\\nIn summary, the MRI findings indicate postsurgical changes and multilevel degenerative spondylotic changes in your lumbar spine, with varying degrees of spinal canal and neuroforaminal stenosis at different levels. These findings may contribute to your low back pain, and further discussion with your healthcare provider regarding management options would be beneficial.'"
            ],
            "application/vnd.google.colaboratory.intrinsic+json": {
              "type": "string"
            }
          },
          "metadata": {},
          "execution_count": 9
        }
      ]
    },
    {
      "cell_type": "code",
      "source": [
        "#explore which nodes were selected for the answer\n",
        "for node_with_score in response.source_nodes:\n",
        "    print(node_with_score.node)"
      ],
      "metadata": {
        "id": "2r-NOSOb73YN",
        "colab": {
          "base_uri": "https://localhost:8080/"
        },
        "outputId": "aec22857-65c4-421e-9cf9-e58726b7a8c8"
      },
      "execution_count": null,
      "outputs": [
        {
          "output_type": "stream",
          "name": "stdout",
          "text": [
            "Node ID: 685c27c8-3041-4c7c-b2e6-2cc98404fd63\n",
            "Text: noninfectious inﬂammatory processes. MRI is the test of choice,\n",
            "as it can show not only cord compression but also intramedullary\n",
            "pathology. SagittalT2 imaging supplemented by sagittal proton density,\n",
            "STIR, and axial T2 im-aging is essential for diagnosis of\n",
            "intramedullary signal abnormality ( Fig. 2 ). Pyogenic cervical\n",
            "spondylodiskitis Pyogenic...\n",
            "Node ID: 6313fa69-7955-4c9b-9486-cd4d038bdff7\n",
            "Text: pathologic compression fractures [149–152] ; MRI and multiplanar\n",
            "CT are helpful in preoperative planning [153]. The postoperative spine\n",
            "The United States has the highest incidence of spine surgery in the\n",
            "world, and it has increased over the past 2 decades [154]. There is an\n",
            "incidence of approximately 15% to 20% of failures, however, termed\n",
            "faile...\n",
            "Node ID: 4470db61-3176-476e-9631-14ee92ce88d0\n",
            "Text: vertebral bodies.16However, with exaggerated extension, 1- to\n",
            "2-mm budging may occur in some histologically normal discs.17–19The\n",
            "pos- terior margins of the discs tend to be slightly concave in the\n",
            "upper lumbar spine, straight at the L4/5 level, and slightly convex at\n",
            "the lumbo-sacral spinal junction. This appearance shouldnot be\n",
            "confused with p...\n",
            "Node ID: 05727eed-ab21-41b3-b58b-7d575c7a4a5e\n",
            "Text: [2] Hansson EK, Hansson TH. The costs for persons sick-listed\n",
            "more than one month because of low back or neck problems. A two-year\n",
            "prospective study of Swedish patients. Eur SpineJ 2005;14(4):337–45.\n",
            "[3] Rish BL. A critique of the surgical management of lumbar disc\n",
            "disease in a private neuro- surgical practice. Spine 1984;9(5):500–4.\n",
            "[4] Hergan ...\n",
            "Node ID: f10fa307-ab25-42c9-8823-a6d9c15f6674\n",
            "Text: Morphologic changes in the lumbar intervertebral fo- ramen due\n",
            "to ﬂexion-extension, lateral bending, and axial rotation: an in vitro\n",
            "anatomicand biomechanical study. Spine 2001;26(8):876–82. [112] Willen\n",
            "J, Danielson B, Gaulitz A, et al. Dynamic eﬀects on the lumbar spinal\n",
            "canal: axially loaded CT-myelography and MRI in patients with sciatica\n",
            "an...\n"
          ]
        }
      ]
    },
    {
      "cell_type": "markdown",
      "source": [
        "## To Do\n",
        "- Actual Data Ingestion\n",
        "- Evaluate baseline\n",
        "- Improve Perf"
      ],
      "metadata": {
        "id": "284FZDfv9IA9"
      }
    },
    {
      "cell_type": "markdown",
      "source": [
        "EXAM: MR LUMBAR SPINE WITH AND WITHOUT CONTRAST\n",
        "\n",
        "CLINICAL INDICATION: Low back pain.\n",
        "\n",
        "TECHNIQUE: Multiplanar multisequence MRI of the lumbar spine performed without and with intravenous\n",
        "contrast.\n",
        "\n",
        "CONTRAST: 15 mL of Clariscan\n",
        "\n",
        "COMPARISON: None.\n",
        "\n",
        "FINDINGS:\n",
        "Assuming normal segmentation, there are 5 lumbar type vertebra with S1 completely incorporated into the\n",
        "sacrum.\n",
        "\n",
        "Postsurgical changes of L2-L4 laminectomies with posterior instrumented fusion at L2-L5. Susceptibility\n",
        "artifact related to fusion hardware limits evaluation of adjacent structures.\n",
        "\n",
        "Vertebral Bodies: Chronic-appearing mild anterior wedging of the T12 vertebral body. Vertebral body\n",
        "heights are otherwise maintained. No suspicious marrow signal replacement.\n",
        "Alignment: No acute lumbar subluxation. Stepwise grade 1 retrolisthesis of L1 on L2 and L2 on L3. Mild\n",
        "lumbar dextrocurvature.\n",
        "\n",
        "Extradural: There are no abnormal extradural fluid collections or masses. No foci of abnormal\n",
        "enhancement.\n",
        "Spinal Cord: The distal spinal cord appears normal.\n",
        "Conus: The conus terminates at approximately L1\n",
        "\n",
        "T12-L1: No spinal canal stenosis. Mild bilateral neuroforaminal stenosis due to foraminal extension of\n",
        "disc bulge and facet arthropathy.\n",
        "\n",
        "L1-L2: Severe spinal canal stenosis due to disc bulge, facet arthropathy and ligamentum flavum\n",
        "redundancy. Moderate right and severe left neuroforaminal stenosis due to foraminal extension of disc\n",
        "bulge and facet arthropathy.\n",
        "\n",
        "L2-L3: No spinal canal stenosis. Mild bilateral neuroforaminal stenosis due to foraminal extension of\n",
        "disc bulge and facet arthropathy.\n",
        "\n",
        "L3-L4: No spinal canal stenosis. Mild right and moderate left neuroforaminal stenosis due to foraminal\n",
        "extension of disc bulge and facet arthropathy.\n",
        "\n",
        "L4-L5: No spinal canal stenosis. Mild right and moderate left neuroforaminal stenosis due to foraminal\n",
        "extension of disc bulge and facet arthropathy.\n",
        "\n",
        "L5-S1: No spinal canal stenosis. Moderate right and severe left neuroforaminal stenosis due to foraminal\n",
        "extension of disc bulge and facet arthropathy.\n",
        "\n",
        "Paraspinal Soft Tissues: Unremarkable.\n",
        "Regional Soft Tissues: Simple-appearing right renal cyst measuring 6.7 x 5.8 cm.\n",
        "\n",
        "\n",
        "IMPRESSION:\n",
        "\n",
        "Postsurgical and multilevel degenerative spondylotic changes of the lumbar spine with up to severe spinal\n",
        "canal and severe neuroforaminal stenosis, further discussed in level by level detail above."
      ],
      "metadata": {
        "id": "hoLXnsDXT4Fm"
      }
    }
  ]
}